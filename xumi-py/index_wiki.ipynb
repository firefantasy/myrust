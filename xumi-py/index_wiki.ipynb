{
 "cells": [
  {
   "cell_type": "code",
   "execution_count": 6,
   "metadata": {},
   "outputs": [],
   "source": [
    "from xunmi import *"
   ]
  },
  {
   "cell_type": "code",
   "execution_count": 7,
   "metadata": {},
   "outputs": [],
   "source": [
    "indexer = Indexer(\"./fixtures/config.yml\")\n",
    "updater = indexer.get_updater()"
   ]
  },
  {
   "cell_type": "code",
   "execution_count": 8,
   "metadata": {},
   "outputs": [],
   "source": [
    "f = open(\"./fixtures/wiki_00.xml\")\n",
    "data = f.read()\n",
    "f.close()"
   ]
  },
  {
   "cell_type": "code",
   "execution_count": 16,
   "metadata": {},
   "outputs": [],
   "source": [
    "input_config = InputConfig(\"xml\", [(\"$value\", \"content\")], [(\"id\", (\"string\", \"number\"))])"
   ]
  },
  {
   "cell_type": "code",
   "execution_count": 17,
   "metadata": {},
   "outputs": [],
   "source": [
    "updater.update(data, input_config) "
   ]
  },
  {
   "cell_type": "code",
   "execution_count": 18,
   "metadata": {},
   "outputs": [],
   "source": [
    "updater.commit()"
   ]
  },
  {
   "cell_type": "code",
   "execution_count": 29,
   "metadata": {},
   "outputs": [],
   "source": [
    "result = indexer.search(\"族\", [\"title\", \"content\"], 5, 0)"
   ]
  },
  {
   "cell_type": "code",
   "execution_count": 30,
   "metadata": {},
   "outputs": [
    {
     "data": {
      "text/plain": [
       "[(8.467058181762695,\n",
       "  '{\"id\":[39],\"title\":[\"民族\"],\"url\":[\"https://zh.wikipedia.org/wiki?curid=39\"]}'),\n",
       " (8.462817192077637,\n",
       "  '{\"id\":[861],\"title\":[\"彝族\"],\"url\":[\"https://zh.wikipedia.org/wiki?curid=861\"]}'),\n",
       " (8.460607528686523,\n",
       "  '{\"id\":[827],\"title\":[\"白族\"],\"url\":[\"https://zh.wikipedia.org/wiki?curid=827\"]}'),\n",
       " (8.452722549438477,\n",
       "  '{\"id\":[2200],\"title\":[\"满族\"],\"url\":[\"https://zh.wikipedia.org/wiki?curid=2200\"]}'),\n",
       " (8.449298858642578,\n",
       "  '{\"id\":[2903],\"title\":[\"汉族\"],\"url\":[\"https://zh.wikipedia.org/wiki?curid=2903\"]}')]"
      ]
     },
     "execution_count": 30,
     "metadata": {},
     "output_type": "execute_result"
    }
   ],
   "source": [
    "result"
   ]
  },
  {
   "cell_type": "code",
   "execution_count": null,
   "metadata": {},
   "outputs": [],
   "source": []
  }
 ],
 "metadata": {
  "kernelspec": {
   "display_name": "Python 3",
   "language": "python",
   "name": "python3"
  },
  "language_info": {
   "codemirror_mode": {
    "name": "ipython",
    "version": 3
   },
   "file_extension": ".py",
   "mimetype": "text/x-python",
   "name": "python",
   "nbconvert_exporter": "python",
   "pygments_lexer": "ipython3",
   "version": "3.8.10"
  }
 },
 "nbformat": 4,
 "nbformat_minor": 4
}
